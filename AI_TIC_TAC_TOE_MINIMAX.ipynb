{
  "nbformat": 4,
  "nbformat_minor": 0,
  "metadata": {
    "colab": {
      "provenance": []
    },
    "kernelspec": {
      "name": "python3",
      "display_name": "Python 3"
    },
    "language_info": {
      "name": "python"
    }
  },
  "cells": [
    {
      "cell_type": "code",
      "execution_count": 1,
      "metadata": {
        "id": "eJMpch-VeU8m"
      },
      "outputs": [],
      "source": [
        "import numpy as np\n",
        "import time \n",
        "from math import inf"
      ]
    },
    {
      "cell_type": "code",
      "source": [
        "board = np.zeros((3,3),dtype = np.int)\n",
        "HUMAN = -1\n",
        "COMP  = +1"
      ],
      "metadata": {
        "colab": {
          "base_uri": "https://localhost:8080/"
        },
        "id": "sK_7B57ue3Wo",
        "outputId": "e8767498-8e32-415a-f72b-0c8b3720fa2e"
      },
      "execution_count": 21,
      "outputs": [
        {
          "output_type": "stream",
          "name": "stderr",
          "text": [
            "/usr/local/lib/python3.7/dist-packages/ipykernel_launcher.py:1: DeprecationWarning: `np.int` is a deprecated alias for the builtin `int`. To silence this warning, use `int` by itself. Doing this will not modify any behavior and is safe. When replacing `np.int`, you may wish to use e.g. `np.int64` or `np.int32` to specify the precision. If you wish to review your current use, check the release note link for additional information.\n",
            "Deprecated in NumPy 1.20; for more details and guidance: https://numpy.org/devdocs/release/1.20.0-notes.html#deprecations\n",
            "  \"\"\"Entry point for launching an IPython kernel.\n"
          ]
        }
      ]
    },
    {
      "cell_type": "code",
      "source": [
        "board"
      ],
      "metadata": {
        "colab": {
          "base_uri": "https://localhost:8080/"
        },
        "id": "vUoYnVhAe8wE",
        "outputId": "782e0f57-95f5-4116-8b16-79fdc31f95a6"
      },
      "execution_count": 22,
      "outputs": [
        {
          "output_type": "execute_result",
          "data": {
            "text/plain": [
              "array([[0, 0, 0],\n",
              "       [0, 0, 0],\n",
              "       [0, 0, 0]])"
            ]
          },
          "metadata": {},
          "execution_count": 22
        }
      ]
    },
    {
      "cell_type": "code",
      "source": [
        "def main():\n",
        "  h_choice = \"O\"\n",
        "  c_choice = \"X\"\n",
        "\n",
        "  while( (len(empty_locations(board)) > 0)  and not game_over(board)):\n",
        "    ai_turn(c_choice,h_choice)\n",
        "    human_turn(c_choice,h_choice)\n",
        "\n",
        "  if(wins(board,HUMAN)):\n",
        "    print('HUMAN TURN')\n",
        "    print(board)\n",
        "    print('\\nYOU WIN!\\n')\n",
        "\n",
        "  elif(wins(board,COMP)):\n",
        "    print('COMPUTER TURN')\n",
        "    print(board)\n",
        "    print('\\YOU LOSE!\\n')\n",
        "  \n",
        "  else:\n",
        "    print(board)\n",
        "    print('\\nDRAW\\n')\n",
        "  \n"
      ],
      "metadata": {
        "id": "ceZ7Wj6jfCNi"
      },
      "execution_count": 46,
      "outputs": []
    },
    {
      "cell_type": "code",
      "source": [
        "def wins(state,player):\n",
        "  win_states = [\n",
        "                 state[0, :].tolist(), # 1st row  \n",
        "                 state[1, :].tolist(), # 2st row \n",
        "                 state[2, :].tolist(), # 3st row \n",
        "                 state[:, 0].tolist(), # 1st col \n",
        "                 state[:, 1].tolist(), # 2st col \n",
        "                 state[:, 2].tolist(), # 3st col \n",
        "                 [state[0, 0], state[1, 1], state[2, 2]], # 1st diagonal\n",
        "                 [state[2, 0], state[1, 1], state[0, 2]]] # 2st diagonal\n",
        "     \n",
        "  if[player,player,player] in win_states:\n",
        "    return True\n",
        "  else:\n",
        "    return False"
      ],
      "metadata": {
        "id": "cWfa2PO4l16l"
      },
      "execution_count": 50,
      "outputs": []
    },
    {
      "cell_type": "code",
      "source": [
        "def game_over(state):\n",
        "  return wins(state,HUMAN) or wins(state,COMP)"
      ],
      "metadata": {
        "id": "SePv0Ml8mQA0"
      },
      "execution_count": 33,
      "outputs": []
    },
    {
      "cell_type": "code",
      "source": [
        "def empty_locations(state):\n",
        "  l =[]\n",
        "  for i in range(3):\n",
        "    for j in range(3):\n",
        "      if(state[i][j] == 0):\n",
        "        loc =(i,j)\n",
        "        l.append(loc)\n",
        "  return l"
      ],
      "metadata": {
        "id": "J9i9Un6eme0n"
      },
      "execution_count": 34,
      "outputs": []
    },
    {
      "cell_type": "code",
      "source": [
        "def valid_move(x,y):\n",
        "  if(board[x,y] == 0):\n",
        "    return True"
      ],
      "metadata": {
        "id": "seIUlEqVmwB9"
      },
      "execution_count": 54,
      "outputs": []
    },
    {
      "cell_type": "code",
      "source": [
        "def set_move(x,y,player):\n",
        "  if(valid_move(x,y) == True):\n",
        "    board[x,y] = player\n",
        "    return True\n",
        "  else:\n",
        "    return False"
      ],
      "metadata": {
        "id": "3XIRcRtMnGDZ"
      },
      "execution_count": 55,
      "outputs": []
    },
    {
      "cell_type": "code",
      "source": [
        "def evaluate(state):\n",
        "  if(wins(state,COMP)):\n",
        "    score = +1\n",
        "  elif(wins(state,HUMAN)):\n",
        "    score = -1\n",
        "  else:\n",
        "    score =0\n",
        "\n",
        "  return score"
      ],
      "metadata": {
        "id": "JUH28lzEo1kF"
      },
      "execution_count": 37,
      "outputs": []
    },
    {
      "cell_type": "code",
      "source": [
        "def minimax(state,depth,player):\n",
        "  if(player == COMP):\n",
        "    best = [-1,-1,-inf]\n",
        "  \n",
        "  else:\n",
        "    best = [1,1,inf]\n",
        "  \n",
        "  if(depth == 0 or game_over(state)):\n",
        "    score = evaluate(state)\n",
        "    return [-1,-1,score]\n",
        "  \n",
        "  for i in empty_locations(state):\n",
        "    (x,y) = i\n",
        "    state[x,y] = player\n",
        "    score = minimax(state,depth-1,player)\n",
        "    state[x,y] = 0\n",
        "    score = [x,y,score[2]]\n",
        "\n",
        "    if(player == COMP):\n",
        "      if(score[2] > best[2]):\n",
        "        best = score\n",
        "    else:\n",
        "        if(score[2] < best[2]):\n",
        "          best = score\n",
        "  \n",
        "  return best\n"
      ],
      "metadata": {
        "id": "XQxaS21inQTo"
      },
      "execution_count": 38,
      "outputs": []
    },
    {
      "cell_type": "code",
      "source": [
        "string = \"\"\"\n",
        "| 1 | 2 | 3 |\n",
        "| 4 | 5 | 6 |\n",
        "| 7 | 8 | 9 |\n",
        "\"\"\""
      ],
      "metadata": {
        "id": "d40vt-fgnao-"
      },
      "execution_count": 39,
      "outputs": []
    },
    {
      "cell_type": "code",
      "source": [
        "def ai_turn(c_choice,h_choice):\n",
        "  depth = len(empty_locations(board))\n",
        "\n",
        "  if(depth == 0 or game_over(board)):\n",
        "    return\n",
        "  \n",
        "  print('COMPUTER TURN ')\n",
        "  print(board)\n",
        "\n",
        "  if(depth == 9):\n",
        "    x = np.random.choice([0,1,2])\n",
        "    y = np.random.choice([0,1,2])\n",
        "  else:\n",
        "    move = minimax(board,depth,COMP)\n",
        "    (x,y) = move[0],move[1]\n",
        "  \n",
        "  set_move(x,y,COMP)\n",
        "  time.sleep(1)"
      ],
      "metadata": {
        "id": "p4a94Qd0pVq3"
      },
      "execution_count": 52,
      "outputs": []
    },
    {
      "cell_type": "code",
      "source": [
        "def human_turn(c_choice,h_choice):\n",
        "\n",
        "  moves = {1:[0,0],\n",
        "           2:[0,1],\n",
        "           3:[0,2],\n",
        "           4:[1,0],\n",
        "           5:[1,1],\n",
        "           6:[1,2],\n",
        "           7:[2,0],\n",
        "           8:[2,1],\n",
        "           9:[2,2],\n",
        "           }\n",
        "  move = -1\n",
        "  depth = len(empty_locations(board))\n",
        "  if(depth == 0 or game_over(board)):\n",
        "    return\n",
        "  \n",
        "  print(board)\n",
        "  print(string)\n",
        "\n",
        "  while(move < 1 or move > 9):\n",
        "    try:\n",
        "      move = int(input(\"Use Keypad (only 1 to 9\\n\"))\n",
        "      coord = moves [move]\n",
        "      try_move = set_move(coord[0],coord[1],HUMAN)\n",
        "\n",
        "      if(try_move == False):\n",
        "        print('Bad Move')\n",
        "        move = -1\n",
        "    \n",
        "    except:\n",
        "      print('Bad Move')\n",
        "            "
      ],
      "metadata": {
        "id": "UxbiqSGdpVyD"
      },
      "execution_count": 41,
      "outputs": []
    },
    {
      "cell_type": "code",
      "source": [
        "main()"
      ],
      "metadata": {
        "colab": {
          "base_uri": "https://localhost:8080/"
        },
        "id": "NRp8LRlSpVvP",
        "outputId": "f12048d8-35e4-46e6-89a3-b736f754e18c"
      },
      "execution_count": 56,
      "outputs": [
        {
          "output_type": "stream",
          "name": "stdout",
          "text": [
            "COMPUTER TURN \n",
            "[[0 0 0]\n",
            " [0 0 0]\n",
            " [0 0 0]]\n",
            "[[0 0 1]\n",
            " [0 0 0]\n",
            " [0 0 0]]\n",
            "\n",
            "| 1 | 2 | 3 |\n",
            "| 4 | 5 | 6 |\n",
            "| 7 | 8 | 9 |\n",
            "\n",
            "Use Keypad (only 1 to 9\n",
            "2\n",
            "COMPUTER TURN \n",
            "[[ 0 -1  1]\n",
            " [ 0  0  0]\n",
            " [ 0  0  0]]\n",
            "[[ 1 -1  1]\n",
            " [ 0  0  0]\n",
            " [ 0  0  0]]\n",
            "\n",
            "| 1 | 2 | 3 |\n",
            "| 4 | 5 | 6 |\n",
            "| 7 | 8 | 9 |\n",
            "\n",
            "Use Keypad (only 1 to 9\n",
            "5\n",
            "COMPUTER TURN \n",
            "[[ 1 -1  1]\n",
            " [ 0 -1  0]\n",
            " [ 0  0  0]]\n",
            "[[ 1 -1  1]\n",
            " [ 1 -1  0]\n",
            " [ 0  0  0]]\n",
            "\n",
            "| 1 | 2 | 3 |\n",
            "| 4 | 5 | 6 |\n",
            "| 7 | 8 | 9 |\n",
            "\n",
            "Use Keypad (only 1 to 9\n",
            "7\n",
            "COMPUTER TURN \n",
            "[[ 1 -1  1]\n",
            " [ 1 -1  0]\n",
            " [-1  0  0]]\n",
            "[[ 1 -1  1]\n",
            " [ 1 -1  1]\n",
            " [-1  0  0]]\n",
            "\n",
            "| 1 | 2 | 3 |\n",
            "| 4 | 5 | 6 |\n",
            "| 7 | 8 | 9 |\n",
            "\n",
            "Use Keypad (only 1 to 9\n",
            "9\n",
            "COMPUTER TURN \n",
            "[[ 1 -1  1]\n",
            " [ 1 -1  1]\n",
            " [-1  0 -1]]\n",
            "[[ 1 -1  1]\n",
            " [ 1 -1  1]\n",
            " [-1  1 -1]]\n",
            "\n",
            "DRAW\n",
            "\n"
          ]
        }
      ]
    },
    {
      "cell_type": "code",
      "source": [
        "\n"
      ],
      "metadata": {
        "id": "6TpsltDxr-eR"
      },
      "execution_count": null,
      "outputs": []
    }
  ]
}